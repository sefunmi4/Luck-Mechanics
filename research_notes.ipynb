{
 "cells": [
  {
   "cell_type": "code",
   "execution_count": null,
   "metadata": {},
   "outputs": [],
   "source": [
    "import luck_mechanics\n",
    "\n",
    "#math \n",
    "curved_infinity = luck_mechanics.complex_math.curved_infinity\n",
    "composite_level_graph = luck_mechanics.complex_math.composite_level_graph\n",
    "\n",
    "#physics \n",
    "spacetime_ripples = luck_mechanics.spacetime_ripples\n",
    "quantum_field_tension = luck_mechanics.quantum_field_tension\n",
    "luck_cone = luck_mechanics.luck_cone\n",
    "chance_feild = luck_mechanics.chance_feild\n",
    "lucky_interfernce = luck_mechanics.lucky_interfernce\n",
    "jinx_interfernce = luck_mechanics.jinx_interfernce\n",
    "\n",
    "#magic (manipulative geometric physics) wand (wavefunction nano device)\n",
    "quantum_simulator = luck_mechanics.wavefunction_computation.quantum_simulator\n",
    "phase_compass = luck_mechanics.wavefunction_computation.phase_compass\n",
    "spacetime_map = luck_mechanics.wavefunction_computation.spacetime_map\n",
    "\n",
    "#luck magic \n",
    "spiderman_anchor_points = luck_mechanics.wavefunction_computation.spiderman_anchor_points\n",
    "\n",
    "#spacetime travel magic\n",
    "entanglement_acceleration_tension = luck_mechanics.wavefunction_computation.entanglement_acceleration_tension\n",
    "\n",
    "#teleprotation magic \n",
    "wormhole_curvature = luck_mechanics.wavefunction_computation.wormhole_curvature\n",
    "\n",
    "#dark magic\n",
    "black_hole_geometrics = luck_mechanics.wavefunction_computation.black_hole_geometrics\n",
    "white_hole_geometrics = luck_mechanics.wavefunction_computation.white_hole_geometrics\n",
    "\n",
    "#light magic\n",
    "light_physics = luck_mechanics.wavefunction_computation.light_physics\n",
    "\n",
    "#gravitational magic\n",
    "grey_hole_geometrics = luck_mechanics.wavefunction_computation.grey_hole_geometrics\n",
    "\n",
    "#mass / elemental magic  \n",
    "big_bang_eneergy_spread = luck_mechanics.wavefunction_computation.big_bang_eneergy_spread\n",
    "\n",
    "#multiverse / cosmic magic  \n",
    "multiverse_eneergy_spread = luck_mechanics.wavefunction_computation.multiverse_eneergy_spread\n"
   ]
  },
  {
   "cell_type": "code",
   "execution_count": null,
   "metadata": {},
   "outputs": [],
   "source": [
    "# Math Research \n",
    "curved_infinity.run_demo()\n",
    "composite_level_graph.run_demo()"
   ]
  },
  {
   "cell_type": "code",
   "execution_count": null,
   "metadata": {},
   "outputs": [],
   "source": [
    "# Physics Research \n",
    "spacetime_ripples.run_demo()\n",
    "quantum_field_tension.run_demo()\n",
    "luck_cone.run_demo()\n",
    "chance_feild.run_demo()\n",
    "lucky_interfernce.run_demo()\n",
    "jinx_interfernce.run_demo()"
   ]
  },
  {
   "cell_type": "code",
   "execution_count": null,
   "metadata": {},
   "outputs": [],
   "source": [
    "# Magic Computer Research \n",
    "# magic (manipulative geometric physics) wand (wavefunction navigation device)\n",
    "quantum_simulator.run_demo()\n",
    "spacetime_map.run_demo()\n",
    "phase_compass.run_demo()\n",
    "\n",
    "#luck magic \n",
    "spiderman_anchor_points.activate_spell()\n",
    "\n",
    "\n",
    "#spacetime travel magic\n",
    "entanglement_acceleration_tension.activate_spell()\n",
    "\n",
    "#teleprotation magic \n",
    "wormhole_curvature.activate_spell()\n",
    "\n",
    "#dark magic\n",
    "black_hole_geometrics.activate_spell()\n",
    "white_hole_geometrics.activate_spell()\n",
    "\n",
    "#light magic\n",
    "light_physics.activate_spell()\n",
    "\n",
    "#gravitational magic\n",
    "grey_hole_geometrics.activate_spell()\n",
    "\n",
    "#mass / elemental magic  \n",
    "big_bang_eneergy_spread.activate_spell()\n",
    "\n",
    "#multiverse / cosmic magic  \n",
    "multiverse_eneergy_spread.activate_spell()\n"
   ]
  }
 ],
 "metadata": {
  "language_info": {
   "name": "python"
  }
 },
 "nbformat": 4,
 "nbformat_minor": 2
}
